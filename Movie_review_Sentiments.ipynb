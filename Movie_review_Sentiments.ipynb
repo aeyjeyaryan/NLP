{
  "nbformat": 4,
  "nbformat_minor": 0,
  "metadata": {
    "colab": {
      "provenance": [],
      "authorship_tag": "ABX9TyOylVkJ7TEedoNvxvnxz7Ml",
      "include_colab_link": true
    },
    "kernelspec": {
      "name": "python3",
      "display_name": "Python 3"
    },
    "language_info": {
      "name": "python"
    }
  },
  "cells": [
    {
      "cell_type": "markdown",
      "metadata": {
        "id": "view-in-github",
        "colab_type": "text"
      },
      "source": [
        "<a href=\"https://colab.research.google.com/github/aeyjeyaryan/NLP/blob/main/Movie_review_Sentiments.ipynb\" target=\"_parent\"><img src=\"https://colab.research.google.com/assets/colab-badge.svg\" alt=\"Open In Colab\"/></a>"
      ]
    },
    {
      "cell_type": "code",
      "execution_count": 1,
      "metadata": {
        "id": "l5Z-q02ZkZAF"
      },
      "outputs": [],
      "source": [
        "from textblob import TextBlob\n"
      ]
    },
    {
      "cell_type": "code",
      "source": [
        "from textblob import TextBlob\n",
        "\n",
        "# Get movie review from the user\n",
        "review = input(\"Enter your movie review: \")\n",
        "\n",
        "# Perform sentiment analysis\n",
        "blob = TextBlob(review)\n",
        "sentiment = \"positive\" if blob.sentiment.polarity > 0 else \"negative\" if blob.sentiment.polarity < 0 else \"neutral\"\n",
        "\n",
        "#blob.sentiment.polarity is the polarity score of the movie review that ranges from -1 to 1\n",
        "\n",
        "\n",
        "# Output the sentiment\n",
        "print(f\"Review: {review}\\nSentiment: {sentiment}\")\n"
      ],
      "metadata": {
        "colab": {
          "base_uri": "https://localhost:8080/"
        },
        "id": "BFDAonX8kd64",
        "outputId": "fc2a537d-5646-4025-81ea-435f1c9f6999"
      },
      "execution_count": 2,
      "outputs": [
        {
          "output_type": "stream",
          "name": "stdout",
          "text": [
            "Enter your movie review: I liked the movie\n",
            "Review: I liked the movie\n",
            "Sentiment: positive\n"
          ]
        }
      ]
    },
    {
      "cell_type": "markdown",
      "source": [
        "This project seems very basic and has only few lines of code but here's the catch!\n",
        "The line where I use sentiment variable is a bit tedious to understand for which\n",
        "a proper knowledge of polarity and textblob functioning is required.\n",
        "I aim to integrate it in future projects in some App or web but for now, this is just a basic example of how sentiment analysis\n",
        "using text blob works! :)"
      ],
      "metadata": {
        "id": "Q2LXv2f5lHhe"
      }
    },
    {
      "cell_type": "code",
      "source": [],
      "metadata": {
        "id": "5xEHpbKmlICO"
      },
      "execution_count": null,
      "outputs": []
    }
  ]
}