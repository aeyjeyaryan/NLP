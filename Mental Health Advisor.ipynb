{
  "nbformat": 4,
  "nbformat_minor": 0,
  "metadata": {
    "colab": {
      "provenance": [],
      "authorship_tag": "ABX9TyPJwkRZcQyX19BpQImyoqxe",
      "include_colab_link": true
    },
    "kernelspec": {
      "name": "python3",
      "display_name": "Python 3"
    },
    "language_info": {
      "name": "python"
    }
  },
  "cells": [
    {
      "cell_type": "markdown",
      "metadata": {
        "id": "view-in-github",
        "colab_type": "text"
      },
      "source": [
        "<a href=\"https://colab.research.google.com/github/aeyjeyaryan/NLP/blob/main/Mental%20Health%20Advisor.ipynb\" target=\"_parent\"><img src=\"https://colab.research.google.com/assets/colab-badge.svg\" alt=\"Open In Colab\"/></a>"
      ]
    },
    {
      "cell_type": "code",
      "execution_count": 20,
      "metadata": {
        "id": "Zu7dkG6KUEjR"
      },
      "outputs": [],
      "source": [
        "import os\n",
        "import nltk\n",
        "import random\n",
        "from sklearn.feature_extraction.text import TfidfVectorizer\n",
        "from sklearn.linear_model import LogisticRegression"
      ]
    },
    {
      "cell_type": "code",
      "source": [
        "import json\n",
        "with open('intents.json', 'r') as file:\n",
        "    data = json.load(file)\n",
        "intents = data['intents']"
      ],
      "metadata": {
        "id": "_Id7IeJNUIol"
      },
      "execution_count": 21,
      "outputs": []
    },
    {
      "cell_type": "code",
      "source": [
        "vectorizer = TfidfVectorizer()\n",
        "clf = LogisticRegression(random_state=0, max_iter=10000)"
      ],
      "metadata": {
        "id": "SY6-bAiCUOAW"
      },
      "execution_count": 22,
      "outputs": []
    },
    {
      "cell_type": "code",
      "source": [
        "# Create the vectorizer and classifier\n",
        "vectorizer = TfidfVectorizer()\n",
        "clf = LogisticRegression(random_state=0, max_iter=10000)"
      ],
      "metadata": {
        "id": "Gt8Wp0GEUR33"
      },
      "execution_count": 23,
      "outputs": []
    },
    {
      "cell_type": "code",
      "source": [
        "# Preprocess the data\n",
        "tags = []\n",
        "patterns = []\n",
        "for intent in intents:\n",
        "    for pattern in intent['patterns']:\n",
        "        tags.append(intent['tag'])\n",
        "        patterns.append(pattern)\n",
        "\n",
        "# training the model\n",
        "x = vectorizer.fit_transform(patterns)\n",
        "y = tags\n",
        "clf.fit(x, y)\n",
        "def chatbot(input_text):\n",
        "    input_text = vectorizer.transform([input_text])\n",
        "    tag = clf.predict(input_text)[0]\n",
        "    for intent in intents:\n",
        "        if intent['tag'] == tag:\n",
        "            response = random.choice(intent['responses'])\n",
        "            return response\n",
        "counter = 0"
      ],
      "metadata": {
        "id": "pImkL5SOUe6E"
      },
      "execution_count": 24,
      "outputs": []
    },
    {
      "cell_type": "code",
      "source": [],
      "metadata": {
        "id": "sjTgXkZVUT_t"
      },
      "execution_count": 24,
      "outputs": []
    },
    {
      "cell_type": "code",
      "source": [
        "def main():\n",
        "    print(\"Welcome To THE APP NAME!\")\n",
        "    print(\"Hi, Feel free to talk about your issues!\")\n",
        "\n",
        "    while True:\n",
        "        user_input = input(\"You: \")\n",
        "\n",
        "        if user_input.lower() in ['exit', 'quit']:\n",
        "            print(\"Thank you for chatting with me. Have a great day!\")\n",
        "            break\n",
        "\n",
        "        response = chatbot(user_input)\n",
        "        print(\"Chatbot:\", response)\n",
        "\n",
        "if __name__ == \"__main__\":\n",
        "    main()\n",
        "\n"
      ],
      "metadata": {
        "colab": {
          "base_uri": "https://localhost:8080/"
        },
        "id": "RFANiu9RUbTz",
        "outputId": "685185f3-4633-4886-afe4-6c806732a202"
      },
      "execution_count": 25,
      "outputs": [
        {
          "output_type": "stream",
          "name": "stdout",
          "text": [
            "Welcome To THE APP NAME!\n",
            "Hi, Feel free to talk about your issues!\n",
            "You: i am happy\n",
            "Chatbot: Did something happen which made you feel this way?\n",
            "You: no\n",
            "Chatbot: Come Come elucidate your thoughts\n",
            "You: no\n",
            "Chatbot: Tell me more\n",
            "You: no\n",
            "Chatbot: How were you feeling last week?\n",
            "You: sad\n",
            "Chatbot: I'm here for you. Could you tell me why you're feeling this way?\n",
            "You: no\n",
            "Chatbot: Let's discuss further why you're feeling this way.\n",
            "You: no\n",
            "You: no\n",
            "Chatbot: How were you feeling last week?\n",
            "Chatbot: How were you feeling last week?\n",
            "You: kyu batau\n",
            "Chatbot: Hello there. Glad to see you're back. What's going on in your world right now?\n",
            "You: bass bhai \n",
            "Chatbot: Hi there. What brings you here today?\n",
            "You: exit\n",
            "Thank you for chatting with me. Have a great day!\n"
          ]
        }
      ]
    },
    {
      "cell_type": "code",
      "source": [],
      "metadata": {
        "id": "cL3azyqGUiuB"
      },
      "execution_count": 17,
      "outputs": []
    }
  ]
}