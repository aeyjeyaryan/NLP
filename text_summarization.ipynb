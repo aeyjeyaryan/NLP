{
  "nbformat": 4,
  "nbformat_minor": 0,
  "metadata": {
    "colab": {
      "provenance": [],
      "authorship_tag": "ABX9TyNxu2jbAMvCP05vxUauo/+1",
      "include_colab_link": true
    },
    "kernelspec": {
      "name": "python3",
      "display_name": "Python 3"
    },
    "language_info": {
      "name": "python"
    }
  },
  "cells": [
    {
      "cell_type": "markdown",
      "metadata": {
        "id": "view-in-github",
        "colab_type": "text"
      },
      "source": [
        "<a href=\"https://colab.research.google.com/github/aeyjeyaryan/NLP/blob/main/text_summarization.ipynb\" target=\"_parent\"><img src=\"https://colab.research.google.com/assets/colab-badge.svg\" alt=\"Open In Colab\"/></a>"
      ]
    },
    {
      "cell_type": "code",
      "execution_count": 5,
      "metadata": {
        "colab": {
          "base_uri": "https://localhost:8080/"
        },
        "id": "MBUIdRPidXGz",
        "outputId": "f7c82ba4-005f-4004-a59d-53c3f140666b"
      },
      "outputs": [
        {
          "output_type": "stream",
          "name": "stderr",
          "text": [
            "[nltk_data] Downloading package punkt to /root/nltk_data...\n",
            "[nltk_data]   Package punkt is already up-to-date!\n",
            "[nltk_data] Downloading package stopwords to /root/nltk_data...\n",
            "[nltk_data]   Package stopwords is already up-to-date!\n"
          ]
        },
        {
          "output_type": "stream",
          "name": "stdout",
          "text": [
            "Enter a text to summarize(it can be much longer! :) : \"The sun was setting behind the mountains, casting a golden hue over the tranquil valley below. Birds chirped in the distance, their songs echoing through the cool evening air. A gentle breeze rustled the leaves of the trees, creating a soothing sound that added to the peacefulness of the scene. As dusk settled in, the sky turned shades of pink and orange, painting a breathtaking picture that seemed almost surreal. It was moments like these that reminded me of the beauty and magic of nature.\"\n",
            "Summary: `` sun setting behind mountains , casting golden hue tranquil valley . Birds chirped distance , songs echoing cool evening air . gentle breeze rustled leaves trees , creating soothing sound added peacefulness scene . dusk settled , sky turned shades pink orange , painting breathtaking picture seemed almost surreal . moments like reminded beauty magic nature . ''\n"
          ]
        }
      ],
      "source": [
        "#importing the required libraries\n",
        "from textblob import TextBlob\n",
        "from nltk.corpus import stopwords\n",
        "from nltk.tokenize import word_tokenize\n",
        "import nltk\n",
        "nltk.download('punkt')\n",
        "nltk.download('stopwords')\n",
        "\n",
        "#creating a function that can be called again and again\n",
        "def summarize_text(text):\n",
        "\n",
        "    words = word_tokenize(text)\n",
        "\n",
        "    # Remove stopwords\n",
        "    words = [word for word in words if word.lower() not in stopwords.words('english')]\n",
        "\n",
        "\n",
        "    blob = TextBlob(' '.join(words))\n",
        "\n",
        "\n",
        "    summary = blob.sentences[:]  # Get the first 3 sentences as a summary\n",
        "    return ' '.join(map(str, summary))\n",
        "\n",
        "if __name__ == \"__main__\":\n",
        "    text = input(\"Enter a text to summarize(it can be much longer! :) : \")\n",
        "    summary = summarize_text(text)\n",
        "    print(f\"Summary: {summary}\")\n"
      ]
    },
    {
      "cell_type": "code",
      "source": [],
      "metadata": {
        "id": "fNRZyiDodg_H"
      },
      "execution_count": null,
      "outputs": []
    }
  ]
}