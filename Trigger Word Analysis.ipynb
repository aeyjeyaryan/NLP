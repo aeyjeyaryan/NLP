{
  "metadata": {
    "kernelspec": {
      "language": "python",
      "display_name": "Python 3",
      "name": "python3"
    },
    "language_info": {
      "pygments_lexer": "ipython3",
      "nbconvert_exporter": "python",
      "version": "3.6.4",
      "file_extension": ".py",
      "codemirror_mode": {
        "name": "ipython",
        "version": 3
      },
      "name": "python",
      "mimetype": "text/x-python"
    },
    "kaggle": {
      "accelerator": "none",
      "dataSources": [
        {
          "sourceId": 2509179,
          "sourceType": "datasetVersion",
          "datasetId": 1519608
        }
      ],
      "dockerImageVersionId": 30497,
      "isInternetEnabled": false,
      "language": "python",
      "sourceType": "notebook",
      "isGpuEnabled": false
    },
    "colab": {
      "provenance": [],
      "include_colab_link": true
    }
  },
  "nbformat_minor": 0,
  "nbformat": 4,
  "cells": [
    {
      "cell_type": "markdown",
      "metadata": {
        "id": "view-in-github",
        "colab_type": "text"
      },
      "source": [
        "<a href=\"https://colab.research.google.com/github/aeyjeyaryan/NLP/blob/main/Trigger%20Word%20Analysis.ipynb\" target=\"_parent\"><img src=\"https://colab.research.google.com/assets/colab-badge.svg\" alt=\"Open In Colab\"/></a>"
      ]
    },
    {
      "cell_type": "code",
      "source": [],
      "metadata": {
        "id": "hMpuu6sGfNzJ"
      },
      "execution_count": null,
      "outputs": []
    },
    {
      "cell_type": "code",
      "source": [
        "import pandas as pd\n",
        "import nltk\n",
        "from nltk.tokenize import word_tokenize\n",
        "from nltk.corpus import stopwords\n",
        "from nltk.stem import WordNetLemmatizer\n",
        "\n",
        "nltk.download('punkt')\n",
        "nltk.download('stopwords')\n",
        "nltk.download('wordnet')\n",
        "\n",
        "# Load the dataset\n",
        "# df = pd.read_csv('/content/Indicators_of_Anxiety_or_Depression_Based_on_Reported_Frequency_of_Symptoms_During_Last_7_Days.csv')\n",
        "\n",
        "# Preprocessing\n",
        "def preprocess_text(text):\n",
        "    tokens = word_tokenize(text.lower())\n",
        "    stop_words = set(stopwords.words('english'))\n",
        "    filtered_tokens = [word for word in tokens if word.isalnum() and word not in stop_words]\n",
        "    lemmatizer = WordNetLemmatizer()\n",
        "    lemmatized_tokens = [lemmatizer.lemmatize(word) for word in filtered_tokens]\n",
        "    return lemmatized_tokens\n",
        "\n",
        "# Trigger words and coping strategies\n",
        "trigger_words = {\n",
        "    '18-29 years': ['angry', 'overwhelmed', 'pressure','betrayal','panic'],\n",
        "    '30-39 years': ['stress', 'alone', 'nervous','angry','isolation','fearful'],\n",
        "    '40-49 years': ['workload', 'family','panic', 'responsibilities','frustration',],\n",
        "    '50-59 years': ['health', 'frustration', 'future','betrayal','angry'],\n",
        "    '60-69 years': ['loneliness', 'retirement', 'healthcare','betrayal','panic'],\n",
        "    '70-79 years': ['isolation', 'health issues', 'memory','frustration'],\n",
        "    '80 years and above': ['dependency', 'loss','frustration', 'medical care','emotional','frustration'],\n",
        "    'Male': ['lonely', 'isolated', 'withdrawn'],\n",
        "    'Female': ['sad', 'tearful', 'unhappy'],\n",
        "}\n",
        "\n",
        "coping_strategies = {\n",
        "    '18-29 years': 'Engage in physical activities like jogging or yoga to reduce stress. Take up a hobby such as painting or playing a musical instrument to relax and unwind. Consider keeping a journal to express your thoughts and feelings.',\n",
        "    '30-39 years': 'Practice mindfulness by focusing on the present moment and acknowledging your thoughts and feelings without judgment. Try deep breathing exercises to calm your mind and body. Consider seeking therapy to learn coping skills and strategies.',\n",
        "    '40-49 years': 'Organize your tasks and responsibilities by creating a schedule or to-do list. Prioritize your tasks based on importance and deadlines. Delegate tasks when possible to reduce feelings of being overwhelmed.',\n",
        "    '50-59 years': 'Seek social support from friends and family members. Join a support group to connect with others who may be experiencing similar stressors. Maintain a healthy lifestyle with regular exercise and a balanced diet.',\n",
        "    '60-69 years': 'Stay active and engaged in social activities to maintain mental well-being. Volunteer for a cause you care about or join a club or group that interests you. Consider talking to a counselor or therapist for additional support.',\n",
        "    '70-79 years': 'Join community groups and stay connected with others to avoid isolation. Stay active by participating in gentle exercises like walking or tai chi. Engage in activities that stimulate your mind, such as puzzles or reading.',\n",
        "    '80 years and above': 'Ensure access to necessary support and healthcare services. Stay connected with friends and family members through phone calls or video chats. Engage in activities that bring you joy and meaning.',\n",
        "    'Male': 'Connect with friends and family to avoid feelings of loneliness. Engage in activities that interest you, such as sports or hobbies. Consider joining a men\\'s group or club to socialize and share experiences.',\n",
        "    'Female': 'Seek professional help and talk to a therapist about your feelings. Engage in self-care activities such as taking a relaxing bath or reading a book. Stay connected with friends and family members for emotional support.',\n",
        "}\n",
        "\n",
        "def suggest_coping_strategy(text, demographic):\n",
        "    processed_text = preprocess_text(text)\n",
        "\n",
        "    num_trigger_words = sum(1 for word in processed_text if demographic in trigger_words and word in trigger_words[demographic])\n",
        "\n",
        "    prediction_score = num_trigger_words / len(processed_text) * 100\n",
        "\n",
        "    best_coping_strategy = coping_strategies.get(demographic, 'No coping strategy found.')\n",
        "\n",
        "    return best_coping_strategy, prediction_score\n",
        "\n",
        "#USER INPUT\n",
        "text = input(\"How are you feeling?: \")\n",
        "demographic = input(\"What is your age group?(18-29 years,30-39 years,40-49 years,50-59 years,60-69 years,70-79 years ): \")\n",
        "\n",
        "coping_strategy, prediction_score = suggest_coping_strategy(text, demographic)\n",
        "print(\"Coping Strategy:\", coping_strategy)\n",
        "print(\"Prediction Score:\", prediction_score)\n"
      ],
      "metadata": {
        "id": "XFg-oq4cjWhs",
        "colab": {
          "base_uri": "https://localhost:8080/"
        },
        "outputId": "5d0a15b4-af52-4175-abbe-ab4c9a433548"
      },
      "execution_count": null,
      "outputs": [
        {
          "output_type": "stream",
          "name": "stderr",
          "text": [
            "[nltk_data] Downloading package punkt to /root/nltk_data...\n",
            "[nltk_data]   Package punkt is already up-to-date!\n",
            "[nltk_data] Downloading package stopwords to /root/nltk_data...\n",
            "[nltk_data]   Package stopwords is already up-to-date!\n",
            "[nltk_data] Downloading package wordnet to /root/nltk_data...\n",
            "[nltk_data]   Package wordnet is already up-to-date!\n"
          ]
        },
        {
          "output_type": "stream",
          "name": "stdout",
          "text": [
            "How are you feeling?: panic and workload messes with my mind\n",
            "What is your age group?(18-29 years,30-39 years,40-49 years,50-59 years,60-69 years,70-79 years ): 18-29 years\n",
            "Coping Strategy: Engage in physical activities like jogging or yoga to reduce stress. Take up a hobby such as painting or playing a musical instrument to relax and unwind. Consider keeping a journal to express your thoughts and feelings.\n",
            "Prediction Score: 25.0\n"
          ]
        }
      ]
    },
    {
      "cell_type": "code",
      "source": [],
      "metadata": {
        "id": "eAcNZaOvNE9k"
      },
      "execution_count": null,
      "outputs": []
    }
  ]
}